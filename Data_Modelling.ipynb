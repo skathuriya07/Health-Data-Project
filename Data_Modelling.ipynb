{
  "cells": [
    {
      "cell_type": "markdown",
      "source": [
        "# Importing Libraries"
      ],
      "metadata": {
        "id": "dLj0acqPBbuZ"
      }
    },
    {
      "cell_type": "code",
      "execution_count": null,
      "metadata": {
        "id": "KWmAVBd7-7yd"
      },
      "outputs": [],
      "source": [
        "import pandas as pd\n",
        "import numpy as np\n",
        "from scipy.stats import chi2_contingency\n",
        "import seaborn as sns\n",
        "import matplotlib.pyplot as plt\n",
        "from sklearn.neighbors import KNeighborsClassifier\n",
        "from sklearn import tree\n",
        "\n",
        "from sklearn.ensemble import RandomForestClassifier\n",
        "from sklearn.model_selection import train_test_split\n",
        "from sklearn.compose import make_column_transformer\n",
        "from sklearn.preprocessing import OneHotEncoder\n",
        "from sklearn.compose import make_column_transformer\n",
        "from sklearn.preprocessing import StandardScaler \n",
        "from sklearn import metrics\n",
        "from sklearn.metrics import accuracy_score\n",
        "from sklearn.model_selection import GridSearchCV\n",
        "from sklearn.linear_model import LogisticRegression"
      ]
    },
    {
      "cell_type": "markdown",
      "source": [
        "# Dataset"
      ],
      "metadata": {
        "id": "xwMYUVHEBfgf"
      }
    },
    {
      "cell_type": "code",
      "execution_count": null,
      "metadata": {
        "colab": {
          "base_uri": "https://localhost:8080/",
          "height": 268
        },
        "id": "kFM2ZR4F-7yf",
        "outputId": "66a80c5a-3e26-4fed-b0c1-76c0f7046c94"
      },
      "outputs": [
        {
          "output_type": "execute_result",
          "data": {
            "text/plain": [
              "   HeartDisease    BMI  Smoking  AlcoholDrinking  Stroke  PhysicalHealth  \\\n",
              "0             0  16.60        1                0       0               3   \n",
              "1             0  20.34        0                0       1               0   \n",
              "2             0  26.58        1                0       0              20   \n",
              "3             0  24.21        0                0       0               0   \n",
              "4             0  23.71        0                0       0              28   \n",
              "\n",
              "   MentalHealth  DiffWalking  Sex  AgeCategory   Race  Diabetic  \\\n",
              "0            30            0    0        55-59  White         1   \n",
              "1             0            0    0  80 or older  White         0   \n",
              "2            30            0    1        65-69  White         1   \n",
              "3             0            0    0        75-79  White         0   \n",
              "4             0            1    0        40-44  White         0   \n",
              "\n",
              "   PhysicalActivity  GenHealth  SleepTime  Asthma  \n",
              "0                 1  Very good          5       1  \n",
              "1                 1  Very good          7       0  \n",
              "2                 1       Fair          8       1  \n",
              "3                 0       Good          6       0  \n",
              "4                 1  Very good          8       0  "
            ],
            "text/html": [
              "\n",
              "  <div id=\"df-d680b61f-bcc4-4e7c-9f9d-d4b001adeb66\">\n",
              "    <div class=\"colab-df-container\">\n",
              "      <div>\n",
              "<style scoped>\n",
              "    .dataframe tbody tr th:only-of-type {\n",
              "        vertical-align: middle;\n",
              "    }\n",
              "\n",
              "    .dataframe tbody tr th {\n",
              "        vertical-align: top;\n",
              "    }\n",
              "\n",
              "    .dataframe thead th {\n",
              "        text-align: right;\n",
              "    }\n",
              "</style>\n",
              "<table border=\"1\" class=\"dataframe\">\n",
              "  <thead>\n",
              "    <tr style=\"text-align: right;\">\n",
              "      <th></th>\n",
              "      <th>HeartDisease</th>\n",
              "      <th>BMI</th>\n",
              "      <th>Smoking</th>\n",
              "      <th>AlcoholDrinking</th>\n",
              "      <th>Stroke</th>\n",
              "      <th>PhysicalHealth</th>\n",
              "      <th>MentalHealth</th>\n",
              "      <th>DiffWalking</th>\n",
              "      <th>Sex</th>\n",
              "      <th>AgeCategory</th>\n",
              "      <th>Race</th>\n",
              "      <th>Diabetic</th>\n",
              "      <th>PhysicalActivity</th>\n",
              "      <th>GenHealth</th>\n",
              "      <th>SleepTime</th>\n",
              "      <th>Asthma</th>\n",
              "    </tr>\n",
              "  </thead>\n",
              "  <tbody>\n",
              "    <tr>\n",
              "      <th>0</th>\n",
              "      <td>0</td>\n",
              "      <td>16.60</td>\n",
              "      <td>1</td>\n",
              "      <td>0</td>\n",
              "      <td>0</td>\n",
              "      <td>3</td>\n",
              "      <td>30</td>\n",
              "      <td>0</td>\n",
              "      <td>0</td>\n",
              "      <td>55-59</td>\n",
              "      <td>White</td>\n",
              "      <td>1</td>\n",
              "      <td>1</td>\n",
              "      <td>Very good</td>\n",
              "      <td>5</td>\n",
              "      <td>1</td>\n",
              "    </tr>\n",
              "    <tr>\n",
              "      <th>1</th>\n",
              "      <td>0</td>\n",
              "      <td>20.34</td>\n",
              "      <td>0</td>\n",
              "      <td>0</td>\n",
              "      <td>1</td>\n",
              "      <td>0</td>\n",
              "      <td>0</td>\n",
              "      <td>0</td>\n",
              "      <td>0</td>\n",
              "      <td>80 or older</td>\n",
              "      <td>White</td>\n",
              "      <td>0</td>\n",
              "      <td>1</td>\n",
              "      <td>Very good</td>\n",
              "      <td>7</td>\n",
              "      <td>0</td>\n",
              "    </tr>\n",
              "    <tr>\n",
              "      <th>2</th>\n",
              "      <td>0</td>\n",
              "      <td>26.58</td>\n",
              "      <td>1</td>\n",
              "      <td>0</td>\n",
              "      <td>0</td>\n",
              "      <td>20</td>\n",
              "      <td>30</td>\n",
              "      <td>0</td>\n",
              "      <td>1</td>\n",
              "      <td>65-69</td>\n",
              "      <td>White</td>\n",
              "      <td>1</td>\n",
              "      <td>1</td>\n",
              "      <td>Fair</td>\n",
              "      <td>8</td>\n",
              "      <td>1</td>\n",
              "    </tr>\n",
              "    <tr>\n",
              "      <th>3</th>\n",
              "      <td>0</td>\n",
              "      <td>24.21</td>\n",
              "      <td>0</td>\n",
              "      <td>0</td>\n",
              "      <td>0</td>\n",
              "      <td>0</td>\n",
              "      <td>0</td>\n",
              "      <td>0</td>\n",
              "      <td>0</td>\n",
              "      <td>75-79</td>\n",
              "      <td>White</td>\n",
              "      <td>0</td>\n",
              "      <td>0</td>\n",
              "      <td>Good</td>\n",
              "      <td>6</td>\n",
              "      <td>0</td>\n",
              "    </tr>\n",
              "    <tr>\n",
              "      <th>4</th>\n",
              "      <td>0</td>\n",
              "      <td>23.71</td>\n",
              "      <td>0</td>\n",
              "      <td>0</td>\n",
              "      <td>0</td>\n",
              "      <td>28</td>\n",
              "      <td>0</td>\n",
              "      <td>1</td>\n",
              "      <td>0</td>\n",
              "      <td>40-44</td>\n",
              "      <td>White</td>\n",
              "      <td>0</td>\n",
              "      <td>1</td>\n",
              "      <td>Very good</td>\n",
              "      <td>8</td>\n",
              "      <td>0</td>\n",
              "    </tr>\n",
              "  </tbody>\n",
              "</table>\n",
              "</div>\n",
              "      <button class=\"colab-df-convert\" onclick=\"convertToInteractive('df-d680b61f-bcc4-4e7c-9f9d-d4b001adeb66')\"\n",
              "              title=\"Convert this dataframe to an interactive table.\"\n",
              "              style=\"display:none;\">\n",
              "        \n",
              "  <svg xmlns=\"http://www.w3.org/2000/svg\" height=\"24px\"viewBox=\"0 0 24 24\"\n",
              "       width=\"24px\">\n",
              "    <path d=\"M0 0h24v24H0V0z\" fill=\"none\"/>\n",
              "    <path d=\"M18.56 5.44l.94 2.06.94-2.06 2.06-.94-2.06-.94-.94-2.06-.94 2.06-2.06.94zm-11 1L8.5 8.5l.94-2.06 2.06-.94-2.06-.94L8.5 2.5l-.94 2.06-2.06.94zm10 10l.94 2.06.94-2.06 2.06-.94-2.06-.94-.94-2.06-.94 2.06-2.06.94z\"/><path d=\"M17.41 7.96l-1.37-1.37c-.4-.4-.92-.59-1.43-.59-.52 0-1.04.2-1.43.59L10.3 9.45l-7.72 7.72c-.78.78-.78 2.05 0 2.83L4 21.41c.39.39.9.59 1.41.59.51 0 1.02-.2 1.41-.59l7.78-7.78 2.81-2.81c.8-.78.8-2.07 0-2.86zM5.41 20L4 18.59l7.72-7.72 1.47 1.35L5.41 20z\"/>\n",
              "  </svg>\n",
              "      </button>\n",
              "      \n",
              "  <style>\n",
              "    .colab-df-container {\n",
              "      display:flex;\n",
              "      flex-wrap:wrap;\n",
              "      gap: 12px;\n",
              "    }\n",
              "\n",
              "    .colab-df-convert {\n",
              "      background-color: #E8F0FE;\n",
              "      border: none;\n",
              "      border-radius: 50%;\n",
              "      cursor: pointer;\n",
              "      display: none;\n",
              "      fill: #1967D2;\n",
              "      height: 32px;\n",
              "      padding: 0 0 0 0;\n",
              "      width: 32px;\n",
              "    }\n",
              "\n",
              "    .colab-df-convert:hover {\n",
              "      background-color: #E2EBFA;\n",
              "      box-shadow: 0px 1px 2px rgba(60, 64, 67, 0.3), 0px 1px 3px 1px rgba(60, 64, 67, 0.15);\n",
              "      fill: #174EA6;\n",
              "    }\n",
              "\n",
              "    [theme=dark] .colab-df-convert {\n",
              "      background-color: #3B4455;\n",
              "      fill: #D2E3FC;\n",
              "    }\n",
              "\n",
              "    [theme=dark] .colab-df-convert:hover {\n",
              "      background-color: #434B5C;\n",
              "      box-shadow: 0px 1px 3px 1px rgba(0, 0, 0, 0.15);\n",
              "      filter: drop-shadow(0px 1px 2px rgba(0, 0, 0, 0.3));\n",
              "      fill: #FFFFFF;\n",
              "    }\n",
              "  </style>\n",
              "\n",
              "      <script>\n",
              "        const buttonEl =\n",
              "          document.querySelector('#df-d680b61f-bcc4-4e7c-9f9d-d4b001adeb66 button.colab-df-convert');\n",
              "        buttonEl.style.display =\n",
              "          google.colab.kernel.accessAllowed ? 'block' : 'none';\n",
              "\n",
              "        async function convertToInteractive(key) {\n",
              "          const element = document.querySelector('#df-d680b61f-bcc4-4e7c-9f9d-d4b001adeb66');\n",
              "          const dataTable =\n",
              "            await google.colab.kernel.invokeFunction('convertToInteractive',\n",
              "                                                     [key], {});\n",
              "          if (!dataTable) return;\n",
              "\n",
              "          const docLinkHtml = 'Like what you see? Visit the ' +\n",
              "            '<a target=\"_blank\" href=https://colab.research.google.com/notebooks/data_table.ipynb>data table notebook</a>'\n",
              "            + ' to learn more about interactive tables.';\n",
              "          element.innerHTML = '';\n",
              "          dataTable['output_type'] = 'display_data';\n",
              "          await google.colab.output.renderOutput(dataTable, element);\n",
              "          const docLink = document.createElement('div');\n",
              "          docLink.innerHTML = docLinkHtml;\n",
              "          element.appendChild(docLink);\n",
              "        }\n",
              "      </script>\n",
              "    </div>\n",
              "  </div>\n",
              "  "
            ]
          },
          "metadata": {},
          "execution_count": 4
        }
      ],
      "source": [
        "# df = pd.read_csv('/Users/yvonne013/Desktop/COMP5310 Principles of Data Science/heart_2020_cleaned.csv')\n",
        "df = pd.read_excel('HeartDisease-cleaned.xlsx')\n",
        "df = df.drop(columns=[\"KidneyDisease\",\"SkinCancer\"])\n",
        "df = df[df.columns].replace({'Yes':1, 'No':0, 'Male':1,'Female':0,'No, borderline diabetes':'0','Yes (during pregnancy)':'1' })\n",
        "df['Diabetic'] = df['Diabetic'].astype(int)\n",
        "df.head()"
      ]
    },
    {
      "cell_type": "code",
      "execution_count": null,
      "metadata": {
        "colab": {
          "base_uri": "https://localhost:8080/"
        },
        "id": "cux5e-wp-7yh",
        "outputId": "d1d6cb7f-3676-435c-d922-989b3b923f3a"
      },
      "outputs": [
        {
          "output_type": "stream",
          "name": "stdout",
          "text": [
            "Shape of training feature: (214262, 16)\n",
            "Shape of testing feature: (105533, 16)\n",
            "Shape of training label: (214262,)\n",
            "Shape of training label: (105533,)\n"
          ]
        }
      ],
      "source": [
        "#Data Preprocessing\n",
        "#Select Features\n",
        "features = df.drop(columns =['HeartDisease'], axis = 1)\n",
        "\n",
        "#Select Target \n",
        "target = df['HeartDisease']\n",
        "\n",
        "# Set Training and Testing Data\n",
        "from sklearn.model_selection import train_test_split\n",
        "X_train, X_test, y_train, y_test = train_test_split(features, target, shuffle = True, test_size = .33, random_state = 20)\n",
        "\n",
        "\n",
        "print('Shape of training feature:', X_train.shape)\n",
        "print('Shape of testing feature:', X_test.shape)\n",
        "print('Shape of training label:', y_train.shape)\n",
        "print('Shape of training label:', y_test.shape)"
      ]
    },
    {
      "cell_type": "code",
      "execution_count": null,
      "metadata": {
        "colab": {
          "base_uri": "https://localhost:8080/"
        },
        "id": "-8wYdTGk-7yi",
        "outputId": "76f46e88-d6f3-497f-ea1a-ee79c23d66fe"
      },
      "outputs": [
        {
          "output_type": "stream",
          "name": "stderr",
          "text": [
            "/usr/local/lib/python3.7/dist-packages/sklearn/utils/deprecation.py:87: FutureWarning: Function get_feature_names is deprecated; get_feature_names is deprecated in 1.0 and will be removed in 1.2. Please use get_feature_names_out instead.\n",
            "  warnings.warn(msg, category=FutureWarning)\n",
            "/usr/local/lib/python3.7/dist-packages/sklearn/utils/deprecation.py:87: FutureWarning: Function get_feature_names is deprecated; get_feature_names is deprecated in 1.0 and will be removed in 1.2. Please use get_feature_names_out instead.\n",
            "  warnings.warn(msg, category=FutureWarning)\n"
          ]
        }
      ],
      "source": [
        "from sklearn.compose import make_column_transformer\n",
        "from sklearn.preprocessing import StandardScaler, OneHotEncoder\n",
        "transformer = make_column_transformer(\n",
        "    (OneHotEncoder(sparse=False), ['AgeCategory', 'Race', 'GenHealth']),\n",
        "    remainder='passthrough')\n",
        "\n",
        "# Encode training data \n",
        "transformed_train = transformer.fit_transform(X_train)\n",
        "transformed_train_data = pd.DataFrame(transformed_train, columns=transformer.get_feature_names())\n",
        "\n",
        "# Concat the two tables\n",
        "transformed_train_data.reset_index(drop=True, inplace=True)\n",
        "X_train.reset_index(drop=True, inplace=True)\n",
        "X_train = pd.concat([transformed_train_data, X_train], axis=1)\n",
        "\n",
        "# Remove old columns\n",
        "X_train.drop(['AgeCategory', 'Race', 'GenHealth'], axis = 1, inplace = True)\n",
        "\n",
        "# Encode test data \n",
        "transformed_test = transformer.fit_transform(X_test)\n",
        "transformed_test_data = pd.DataFrame(transformed_test, columns=transformer.get_feature_names())\n",
        "\n",
        "# Concat the two tables\n",
        "transformed_test_data.reset_index(drop=True, inplace=True)\n",
        "X_test.reset_index(drop=True, inplace=True)\n",
        "X_test = pd.concat([transformed_test_data, X_test], axis=1)\n",
        "\n",
        "\n",
        "# Remove old columns\n",
        "X_test.drop(['AgeCategory', 'Race', 'GenHealth'], axis = 1, inplace = True)\n"
      ]
    },
    {
      "cell_type": "code",
      "execution_count": null,
      "metadata": {
        "id": "6PVP22dx-7yj"
      },
      "outputs": [],
      "source": [
        "scaler = StandardScaler()\n",
        "\n",
        "# Scale trainint data\n",
        "X_train = scaler.fit_transform(X_train)\n",
        "\n",
        "# Scale test data\n",
        "X_test = scaler.fit_transform(X_test)"
      ]
    },
    {
      "cell_type": "markdown",
      "source": [
        "# Evaluation"
      ],
      "metadata": {
        "id": "XOm10WTzBkOy"
      }
    },
    {
      "cell_type": "code",
      "execution_count": null,
      "metadata": {
        "id": "obofyekZ-7yk"
      },
      "outputs": [],
      "source": [
        "def evaluate_model(model, x_test, y_test):\n",
        "    from sklearn import metrics\n",
        "\n",
        "    # Predict Test Data \n",
        "    y_pred = model.predict(x_test)\n",
        "\n",
        "    # Calculate accuracy, precision, recall, f1-score, and kappa score\n",
        "    acc = metrics.accuracy_score(y_test, y_pred)\n",
        "    prec = metrics.precision_score(y_test, y_pred)\n",
        "    rec = metrics.recall_score(y_test, y_pred)\n",
        "    f1 = metrics.f1_score(y_test, y_pred)\n",
        "    kappa = metrics.cohen_kappa_score(y_test, y_pred)\n",
        "\n",
        "    # Calculate area under curve (AUC)\n",
        "    y_pred_proba = model.predict_proba(x_test)[::,1]\n",
        "    fpr, tpr, _ = metrics.roc_curve(y_test, y_pred_proba)\n",
        "    auc = metrics.roc_auc_score(y_test, y_pred_proba)\n",
        "\n",
        "    # Display confussion matrix\n",
        "    cm = metrics.confusion_matrix(y_test, y_pred)\n",
        "\n",
        "    return {'acc': acc, 'prec': prec, 'rec': rec, 'f1': f1, 'kappa': kappa, \n",
        "            'fpr': fpr, 'tpr': tpr, 'auc': auc, 'cm': cm}"
      ]
    },
    {
      "cell_type": "code",
      "execution_count": null,
      "metadata": {
        "colab": {
          "base_uri": "https://localhost:8080/"
        },
        "id": "S8W7douf-7yl",
        "outputId": "900a5167-4373-4cc7-c6ca-219c139ce812"
      },
      "outputs": [
        {
          "output_type": "execute_result",
          "data": {
            "text/plain": [
              "array([[-0.26613554, -0.23657304, -0.24983508, ...,  0.53929937,\n",
              "         0.63054373, -0.39233312],\n",
              "       [-0.26613554, -0.23657304, -0.24983508, ...,  0.53929937,\n",
              "         0.63054373, -0.39233312],\n",
              "       [-0.26613554, -0.23657304, -0.24983508, ...,  0.53929937,\n",
              "         0.63054373, -0.39233312],\n",
              "       ...,\n",
              "       [-0.26613554, -0.23657304, -0.24983508, ...,  0.53929937,\n",
              "         0.63054373, -0.39233312],\n",
              "       [-0.26613554, -0.23657304, -0.24983508, ..., -1.8542577 ,\n",
              "        -1.4619562 , -0.39233312],\n",
              "       [-0.26613554, -0.23657304, -0.24983508, ...,  0.53929937,\n",
              "        -0.06695625, -0.39233312]])"
            ]
          },
          "metadata": {},
          "execution_count": 13
        }
      ],
      "source": [
        "X_train"
      ]
    },
    {
      "cell_type": "markdown",
      "source": [
        "# K Nearest Neighbours"
      ],
      "metadata": {
        "id": "p86g2vgMBmsu"
      }
    },
    {
      "cell_type": "code",
      "execution_count": null,
      "metadata": {
        "colab": {
          "base_uri": "https://localhost:8080/"
        },
        "id": "ooAV0-hz-7yl",
        "outputId": "59ff3400-a39e-46fd-e6d8-0adbbbbf0656"
      },
      "outputs": [
        {
          "output_type": "stream",
          "name": "stdout",
          "text": [
            "Accuracy: 0.9050533956203273\n",
            "Precision: 0.3675115207373272\n",
            "Recall: 0.1402197802197802\n",
            "F1 Score: 0.20299077314667513\n",
            "Cohens Kappa Score: 0.16313282077667035\n",
            "Area Under Curve: 0.7172520299067747\n",
            "Confusion Matrix:\n",
            " [[94237  2196]\n",
            " [ 7824  1276]]\n"
          ]
        }
      ],
      "source": [
        "# Building a model using KNeighborsClassifier \n",
        "knn = KNeighborsClassifier(n_neighbors = 5)\n",
        "\n",
        "knn.fit(X_train, y_train)\n",
        "\n",
        "\n",
        "# Evaluate Model\n",
        "knn_eval = evaluate_model(knn, X_test, y_test)\n",
        "\n",
        "# Print result\n",
        "print('Accuracy:', knn_eval['acc'])\n",
        "print('Precision:', knn_eval['prec'])\n",
        "print('Recall:', knn_eval['rec'])\n",
        "print('F1 Score:', knn_eval['f1'])\n",
        "print('Cohens Kappa Score:', knn_eval['kappa'])\n",
        "print('Area Under Curve:', knn_eval['auc'])\n",
        "print('Confusion Matrix:\\n', knn_eval['cm'])"
      ]
    },
    {
      "cell_type": "markdown",
      "source": [
        "## Hyperparameter Tuning for KNN"
      ],
      "metadata": {
        "id": "xsz4jgyKDhAw"
      }
    },
    {
      "cell_type": "code",
      "source": [
        "knn_model = KNeighborsClassifier()\n",
        "k_range = list(range(1, 31))\n",
        "param_grid = dict(n_neighbors=k_range)\n",
        "\n",
        "# defining parameter range\n",
        "grid = GridSearchCV(knn_model, param_grid, cv=10, scoring='accuracy', \n",
        "                    return_train_score=False,verbose=1)"
      ],
      "metadata": {
        "id": "kA7Lz8a-Cyie"
      },
      "execution_count": null,
      "outputs": []
    },
    {
      "cell_type": "code",
      "source": [
        "# fitting the model for grid search\n",
        "grid_search = grid.fit(X_2d_train, y_train_2d)\n",
        "\n",
        "# print best parameter after tuning\n",
        "tmp_best_para = grid.best_params_\n",
        "print(grid.best_params_)\n",
        "  \n",
        "# print how our model looks after hyper-parameter tuning\n",
        "print(grid.best_estimator_)"
      ],
      "metadata": {
        "id": "Z3WsWcmADD8C"
      },
      "execution_count": null,
      "outputs": []
    },
    {
      "cell_type": "code",
      "source": [
        "grid_predictions = grid.predict(X_2d_valid)\n",
        "  \n",
        "# print classification report\n",
        "print(classification_report(y_valid_2d, grid_predictions))"
      ],
      "metadata": {
        "id": "m9fUYMOrDFCX"
      },
      "execution_count": null,
      "outputs": []
    },
    {
      "cell_type": "markdown",
      "source": [
        "## Fitting Optimised KNN"
      ],
      "metadata": {
        "id": "GVL-e2T8D6wj"
      }
    },
    {
      "cell_type": "code",
      "source": [
        "# KNN\n",
        "best_k = 4\n",
        "knn_best = KNeighborsClassifier(n_neighbors=best_k)\n",
        "knn_best.fit(X_2d_train, y_train_2d)\n",
        "y_pred = knn_best.predict(X_2d_valid)\n",
        "print(\"Accuracy on test set: {:.4f}\".format(\n",
        "    accuracy_score(y_valid_2d, y_pred)))"
      ],
      "metadata": {
        "id": "bhzFhKiGDdCc"
      },
      "execution_count": null,
      "outputs": []
    },
    {
      "cell_type": "markdown",
      "source": [
        "# Random Forest"
      ],
      "metadata": {
        "id": "d2s4TQXsBupl"
      }
    },
    {
      "cell_type": "code",
      "execution_count": null,
      "metadata": {
        "id": "ffsYYDdo-7ym",
        "outputId": "ef6fe455-8b41-4820-8f80-6138153de92d"
      },
      "outputs": [
        {
          "name": "stdout",
          "output_type": "stream",
          "text": [
            "Accuracy: 0.9140647948982783\n",
            "Precision: 0.7066666666666667\n",
            "Recall: 0.005824175824175824\n",
            "F1 Score: 0.011553133514986377\n",
            "Cohens Kappa Score: 0.01015771559274814\n",
            "Area Under Curve: 0.7954292674649813\n",
            "Confusion Matrix:\n",
            " [[96411    22]\n",
            " [ 9047    53]]\n"
          ]
        }
      ],
      "source": [
        "# Building Radom forest model  \n",
        "from sklearn.ensemble import RandomForestClassifier\n",
        "rf=RandomForestClassifier(random_state=42,n_estimators=10,max_depth=4, class_weight='balanced')\n",
        "rf.fit(X_train,y_train)\n",
        "rf.estimators_[0]\n",
        "sample_tree=rf.estimators_[4]\n",
        "rf_eval = evaluate_model(rf, X_test, y_test)\n",
        "# Print result\n",
        "print('Accuracy:', rf_eval ['acc'])\n",
        "print('Precision:', rf_eval ['prec'])\n",
        "print('Recall:', rf_eval ['rec'])\n",
        "print('F1 Score:', rf_eval ['f1'])\n",
        "print('Cohens Kappa Score:', rf_eval ['kappa'])\n",
        "print('Area Under Curve:', rf_eval ['auc'])\n",
        "print('Confusion Matrix:\\n', rf_eval ['cm'])\n"
      ]
    },
    {
      "cell_type": "code",
      "source": [
        "# Hyperparameer tuning for random forest\n",
        "max_depth = [2,8,16]\n",
        "n_estimators = [64, 128, 256]\n",
        "param_grid = dict(max_depth = max_depth, n_estimators=n_estimators)\n",
        "\n",
        "# Building grid search\n",
        "rf_model = RandomForestClassifier(n_estimators=n_estimators,max_depth=max_depth, class_weight='balanced')\n",
        "grid = GridSearchCV(estimator=rf_model, param_grid=param_grid, cv=5, n_jobs = -1)\n",
        "grid_result = grid.fit(X_train, y_train)\n",
        "\n",
        "# best param\n",
        "print(grid_result.best_params_)"
      ],
      "metadata": {
        "colab": {
          "base_uri": "https://localhost:8080/"
        },
        "id": "2etZMYWyVjSH",
        "outputId": "6e6b169d-99d8-46b5-9258-dacf49dd29e2"
      },
      "execution_count": null,
      "outputs": [
        {
          "output_type": "stream",
          "name": "stdout",
          "text": [
            "{'max_depth': 16, 'n_estimators': 256}\n"
          ]
        }
      ]
    },
    {
      "cell_type": "code",
      "source": [
        "# Building best model\n",
        "best_depth = 16 #obtained from gridsearch\n",
        "best_n_estimator = 256 #obtained from gridsearch\n",
        "\n",
        "rf_best =  RandomForestClassifier(random_state=42, n_estimators=best_n_estimator,  max_depth= best_depth, class_weight='balanced')\n",
        "\n",
        "rf_best.fit(X_train, y_train)\n",
        "rf_best.estimators_[0]\n",
        "\n",
        "sample_tree=rf_best.estimators_[4]\n",
        "rf_eval = evaluate_model(rf_best, X_test, y_test)\n",
        "# Print result\n",
        "print('Accuracy:', rf_eval['acc'])\n",
        "print('Precision:', rf_eval['prec'])\n",
        "print('Recall:', rf_eval['rec'])\n",
        "print('F1 Score:', rf_eval['f1'])\n",
        "print('Cohens Kappa Score:', rf_eval['kappa'])\n",
        "print('Area Under Curve:', rf_eval['auc'])\n",
        "print('Confusion Matrix:\\n', rf_eval['cm'])"
      ],
      "metadata": {
        "colab": {
          "base_uri": "https://localhost:8080/"
        },
        "id": "r0iXQ_G2Wu4D",
        "outputId": "64b35181-324b-4c4a-d1f6-a28fac9cded0"
      },
      "execution_count": null,
      "outputs": [
        {
          "output_type": "stream",
          "name": "stdout",
          "text": [
            "Accuracy: 0.811746088901102\n",
            "Precision: 0.2557506465223901\n",
            "Recall: 0.6194505494505494\n",
            "F1 Score: 0.3620307633023988\n",
            "Cohens Kappa Score: 0.27333192670413786\n",
            "Area Under Curve: 0.8243560557845605\n",
            "Confusion Matrix:\n",
            " [[80029 16404]\n",
            " [ 3463  5637]]\n"
          ]
        }
      ]
    },
    {
      "cell_type": "markdown",
      "source": [
        "# Decision Tree"
      ],
      "metadata": {
        "id": "vKmYlWxCBxWJ"
      }
    },
    {
      "cell_type": "code",
      "execution_count": null,
      "metadata": {
        "colab": {
          "base_uri": "https://localhost:8080/"
        },
        "id": "RhETDw0s-7ym",
        "outputId": "1d23df27-4474-449a-b316-7c920d1b1c64"
      },
      "outputs": [
        {
          "output_type": "stream",
          "name": "stdout",
          "text": [
            "Accuracy: 0.861882065325538\n",
            "Precision: 0.2271277655969703\n",
            "Recall: 0.25043956043956045\n",
            "F1 Score: 0.23821469635204348\n",
            "Cohens Kappa Score: 0.1624700816234398\n",
            "Area Under Curve: 0.5850105157563704\n",
            "Confusion Matrix:\n",
            " [[88678  7755]\n",
            " [ 6821  2279]]\n"
          ]
        }
      ],
      "source": [
        "# Building Decision Tree model \n",
        "dt = tree.DecisionTreeClassifier(random_state=0)\n",
        "dt.fit(X_train, y_train)\n",
        "\n",
        "# Evaluate Model\n",
        "dt_eval = evaluate_model(dt, X_test, y_test)\n",
        "\n",
        "# Print result\n",
        "print('Accuracy:', dt_eval['acc'])\n",
        "print('Precision:', dt_eval['prec'])\n",
        "print('Recall:', dt_eval['rec'])\n",
        "print('F1 Score:', dt_eval['f1'])\n",
        "print('Cohens Kappa Score:', dt_eval['kappa'])\n",
        "print('Area Under Curve:', dt_eval['auc'])\n",
        "print('Confusion Matrix:\\n', dt_eval['cm'])"
      ]
    },
    {
      "cell_type": "code",
      "execution_count": null,
      "metadata": {
        "id": "kHMDq9_0-7yn",
        "outputId": "35b84d91-a001-4763-9956-6407a1c38fcb"
      },
      "outputs": [
        {
          "name": "stdout",
          "output_type": "stream",
          "text": [
            "Accuracy: 0.9150407929273308\n",
            "Precision: 0.5424050632911392\n",
            "Recall: 0.09417582417582418\n",
            "F1 Score: 0.1604868913857678\n",
            "Cohens Kappa Score: 0.13850725193092928\n",
            "Area Under Curve: 0.8406790480163704\n",
            "Confusion Matrix:\n",
            " [[95710   723]\n",
            " [ 8243   857]]\n"
          ]
        }
      ],
      "source": [
        "# Logistic Regression \n",
        "lg = LogisticRegression()\n",
        "lg .fit(X_train, y_train)\n",
        "\n",
        "# Evaluate Model\n",
        "lg_eval = evaluate_model(lg, X_test, y_test)\n",
        "\n",
        "# Print result\n",
        "print('Accuracy:', lg_eval['acc'])\n",
        "print('Precision:', lg_eval['prec'])\n",
        "print('Recall:',lg_eval['rec'])\n",
        "print('F1 Score:', lg_eval['f1'])\n",
        "print('Cohens Kappa Score:', lg_eval['kappa'])\n",
        "print('Area Under Curve:', lg_eval['auc'])\n",
        "print('Confusion Matrix:\\n', lg_eval['cm'])"
      ]
    },
    {
      "cell_type": "code",
      "execution_count": null,
      "metadata": {
        "id": "DdZHCyKN-7yn",
        "outputId": "bbd9b910-8e46-4fc6-c1c7-c178e8750bbd"
      },
      "outputs": [
        {
          "data": {
            "image/png": "[encoded data removed]",
            "text/plain": [
              "<Figure size 1008x504 with 2 Axes>"
            ]
          },
          "metadata": {},
          "output_type": "display_data"
        }
      ],
      "source": [
        "#Comparison\n",
        "# Intitialize figure with two plots\n",
        "fig, (ax1, ax2) = plt.subplots(1, 2)\n",
        "fig.suptitle('Model Comparison', fontsize=16, fontweight='bold')\n",
        "fig.set_figheight(7)\n",
        "fig.set_figwidth(14)\n",
        "fig.set_facecolor('white')\n",
        "\n",
        "# First plot\n",
        "## set bar size\n",
        "barWidth = 0.2\n",
        "knn_score = [knn_eval['acc'], knn_eval['prec'], knn_eval['rec'], knn_eval['f1'], knn_eval['kappa']]\n",
        "rf_score = [rf_eval['acc'], rf_eval['prec'], rf_eval['rec'], rf_eval['f1'], rf_eval['kappa']]\n",
        "dt_score = [dt_eval['acc'], dt_eval['prec'], dt_eval['rec'], dt_eval['f1'], dt_eval['kappa']]\n",
        "lg_score = [lg_eval['acc'], lg_eval['prec'], lg_eval['rec'], lg_eval['f1'], lg_eval['kappa']]\n",
        "\n",
        "## Set position of bar on X axis\n",
        "r1 = np.arange(len(rf_score))\n",
        "r2 = [x + barWidth for x in r1]\n",
        "r3 = [x + barWidth for x in r2]\n",
        "r4 = [x + barWidth for x in r3]\n",
        "\n",
        "## Make the plot\n",
        "ax1.bar(r1, rf_score, width=barWidth, edgecolor='white', label='Radom Forest ')\n",
        "ax1.bar(r2, knn_score, width=barWidth, edgecolor='white', label='K-Nearest Neighbors')\n",
        "ax1.bar(r3, dt_score, width=barWidth, edgecolor='white', label='Decision Tree')\n",
        "ax1.bar(r4, lg_score, width=barWidth, edgecolor='white', label='K-Nearest Neighbors')\n",
        "\n",
        "## Configure x and y axis\n",
        "ax1.set_xlabel('Metrics', fontweight='bold')\n",
        "labels = ['Accuracy', 'Precision', 'Recall', 'F1', 'Kappa']\n",
        "ax1.set_xticks([r + (barWidth * 1.5) for r in range(len(dt_score))], )\n",
        "ax1.set_xticklabels(labels)\n",
        "ax1.set_ylabel('Score', fontweight='bold')\n",
        "ax1.set_ylim(0, 1)\n",
        "\n",
        "## Create legend & title\n",
        "ax1.set_title('Evaluation Metrics', fontsize=14, fontweight='bold')\n",
        "ax1.legend()\n",
        "\n",
        "# Second plot\n",
        "## Comparing ROC Curve\n",
        "ax2.plot(dt_eval['fpr'], dt_eval['tpr'], label='Decision Tree, auc = {:0.5f}'.format(dt_eval['auc']))\n",
        "ax2.plot(knn_eval['fpr'], knn_eval['tpr'], label='K-Nearest Nieghbor, auc = {:0.5f}'.format(knn_eval['auc']))\n",
        "ax2.plot(rf_eval['fpr'], rf_eval['tpr'], label='Random Froest, auc = {:0.5f}'.format(rf_eval['auc']))\n",
        "ax2.plot(lg_eval['fpr'], lg_eval['tpr'], label='Logistic Regression, auc = {:0.5f}'.format(lg_eval['auc']))\n",
        "\n",
        "## Configure x and y axis\n",
        "ax2.set_xlabel('False Positive Rate', fontweight='bold')\n",
        "ax2.set_ylabel('True Positive Rate', fontweight='bold')\n",
        "\n",
        "## Create legend & title\n",
        "ax2.set_title('ROC Curve', fontsize=14, fontweight='bold')\n",
        "ax2.legend(loc=4)\n",
        "\n",
        "plt.show()"
      ]
    }
  ],
  "metadata": {
    "kernelspec": {
      "display_name": "Python 3.9.5 64-bit",
      "language": "python",
      "name": "python3"
    },
    "language_info": {
      "codemirror_mode": {
        "name": "ipython",
        "version": 3
      },
      "file_extension": ".py",
      "mimetype": "text/x-python",
      "name": "python",
      "nbconvert_exporter": "python",
      "pygments_lexer": "ipython3",
      "version": "3.9.5"
    },
    "orig_nbformat": 4,
    "vscode": {
      "interpreter": {
        "hash": "aee8b7b246df8f9039afb4144a1f6fd8d2ca17a180786b69acc140d282b71a49"
      }
    },
    "colab": {
      "provenance": []
    }
  },
  "nbformat": 4,
  "nbformat_minor": 0
}